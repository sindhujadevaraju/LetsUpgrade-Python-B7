{
 "cells": [
  {
   "cell_type": "markdown",
   "metadata": {},
   "source": [
    "# 1. Problem Statement"
   ]
  },
  {
   "cell_type": "markdown",
   "metadata": {},
   "source": [
    "You all are Pilots, you want to land a plane safely, so altitude required for landing a plane is 1000ft, if it is less than tell pilot to land the plane or it is more than the but less than 5000ft ask the pilot to \"come down to 1000ft\", else if it is more than 5000ft ask the pilot to \"go around and try later\".\n",
    "\n",
    "Example: Input - 1000, Output - Safe to land\n",
    "         \n",
    "Example: Input - 4500, Output - Bring down to 1000\n",
    "         \n",
    "Example: Input - 6500, Output - Turn around"
   ]
  },
  {
   "cell_type": "code",
   "execution_count": 11,
   "metadata": {},
   "outputs": [
    {
     "name": "stdout",
     "output_type": "stream",
     "text": [
      "Enter the altitude level: 1234\n",
      "Come down to 1000ft\n"
     ]
    }
   ],
   "source": [
    "altitude = float(input(\"Enter the altitude level: \"))\n",
    "\n",
    "if altitude <= 1000:\n",
    "    print(\"Land the Plane\")\n",
    "elif (altitude > 1000 and altitude <=5000):\n",
    "    print(\"Come down to 1000ft\")\n",
    "elif altitude > 5000:\n",
    "    print(\"Go around and try later\")\n",
    "    \n",
    "    "
   ]
  }
 ],
 "metadata": {
  "kernelspec": {
   "display_name": "Python 3",
   "language": "python",
   "name": "python3"
  },
  "language_info": {
   "codemirror_mode": {
    "name": "ipython",
    "version": 3
   },
   "file_extension": ".py",
   "mimetype": "text/x-python",
   "name": "python",
   "nbconvert_exporter": "python",
   "pygments_lexer": "ipython3",
   "version": "3.7.4"
  }
 },
 "nbformat": 4,
 "nbformat_minor": 2
}
