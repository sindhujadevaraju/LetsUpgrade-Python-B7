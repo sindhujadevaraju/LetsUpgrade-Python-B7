{
 "cells": [
  {
   "cell_type": "markdown",
   "metadata": {},
   "source": [
    "# List"
   ]
  },
  {
   "cell_type": "markdown",
   "metadata": {},
   "source": [
    "The list is a most versatile datatype available in Python which can be written as a list of comma-separated items between square brackets. \n",
    "\n",
    "=> Mutable\n",
    "\n",
    "=> Holds mixed datatypes(integer, float, string, list)\n",
    "\n",
    "=> Repetitive elements are allowed within a list\n",
    "\n",
    "=> Preserves the order"
   ]
  },
  {
   "cell_type": "code",
   "execution_count": 256,
   "metadata": {},
   "outputs": [
    {
     "name": "stdout",
     "output_type": "stream",
     "text": [
      "list1:\n",
      " ['abc', 123, 24.5, [1, 2, 3], True] \n",
      "\n"
     ]
    }
   ],
   "source": [
    "#Creating a List\n",
    "\n",
    "list1 = ['abc', 123, 24.5, [1,2,3], True]\n",
    "print(\"list1:\\n\",list1,\"\\n\")\n"
   ]
  },
  {
   "cell_type": "code",
   "execution_count": 257,
   "metadata": {},
   "outputs": [
    {
     "name": "stdout",
     "output_type": "stream",
     "text": [
      "Example for Forward indexing:\n",
      "list1[4]: True\n",
      "list1[3][1]: 2\n",
      "\n",
      "Example for Reverse indexing:\n",
      "list1[-3]: 24.5\n",
      "list1[-2][0]: 1\n"
     ]
    }
   ],
   "source": [
    "#Accessing items from the List\n",
    "\n",
    "print(\"Example for Forward indexing:\\nlist1[4]:\", list1[4])\n",
    "print(\"list1[3][1]:\", list1[3][1])\n",
    "\n",
    "\n",
    "print(\"\\nExample for Reverse indexing:\\nlist1[-3]:\", list1[-3])\n",
    "print(\"list1[-2][0]:\", list1[-2][0])"
   ]
  },
  {
   "cell_type": "markdown",
   "metadata": {},
   "source": [
    "### List Functions"
   ]
  },
  {
   "cell_type": "markdown",
   "metadata": {},
   "source": [
    "-> len(), Gives the total length of the list.\n",
    "\n",
    "-> any(), Returns True if even one item in the Python list has a True value and False for an empty iterable.\n",
    "\n",
    "-> max(), Returns item from the list with maximum value\n",
    "\n",
    "-> min(), Returns item from the list with mininum value\n",
    "\n",
    "-> sorted(), Returns a sorted version of the list, but does not change the original one."
   ]
  },
  {
   "cell_type": "code",
   "execution_count": 258,
   "metadata": {},
   "outputs": [
    {
     "name": "stdout",
     "output_type": "stream",
     "text": [
      "list2:\n",
      " [567, 'GHI', 345, 23.5, 'XYZ'] \n",
      "\n",
      "list3:\n",
      " [879, 67567.9, 11122273, 5674.0] \n",
      "\n",
      "Length of the List:\n",
      "  5 \n",
      "\n",
      "Is there any items present in the List:\n",
      "  True \n",
      "\n",
      "Highest Item from list3 is :\n",
      " 11122273 \n",
      "\n",
      "Lowest Item from list3 is :\n",
      " 879 \n",
      "\n",
      "The list3 sorted in ascendng order:\n",
      "  [879, 5674.0, 67567.9, 11122273] \n",
      "\n"
     ]
    }
   ],
   "source": [
    "list2 = [567,'GHI', 345, 23.5, 'XYZ']\n",
    "list3= [879, 67567.9, 11122273, 5674.0]\n",
    "\n",
    "print(\"list2:\\n\",list2,\"\\n\")\n",
    "print(\"list3:\\n\",list3,\"\\n\")\n",
    "\n",
    "#len()\n",
    "print(\"Length of the List:\\n \", len(list2),\"\\n\")\n",
    "\n",
    "#any()\n",
    "print(\"Is there any items present in the List:\\n \", any(list2),\"\\n\")\n",
    "\n",
    "#max()\n",
    "print(\"Highest Item from list3 is :\\n\", max(list3),\"\\n\")\n",
    "\n",
    "#min()\n",
    "print(\"Lowest Item from list3 is :\\n\", min(list3),\"\\n\")\n",
    "\n",
    "#sorted()\n",
    "print(\"The list3 sorted in ascendng order:\\n \", sorted(list3),\"\\n\")"
   ]
  },
  {
   "cell_type": "markdown",
   "metadata": {},
   "source": [
    "### List Methods"
   ]
  },
  {
   "cell_type": "markdown",
   "metadata": {},
   "source": [
    "-> append(), It adds an item to the end of the list.\n",
    "\n",
    "-> insert(), It inserts an item at a specified position.\n",
    "\n",
    "-> remove(), It removes the first instance of an item from the Python list.\n",
    "\n",
    "-> pop(), It removes the element at the specified index, and prints it to the screen.\n",
    "\n",
    "-> clear(), It empties the Python list."
   ]
  },
  {
   "cell_type": "code",
   "execution_count": 259,
   "metadata": {},
   "outputs": [
    {
     "name": "stdout",
     "output_type": "stream",
     "text": [
      "list4:\n",
      " ['XYZ', 879, 123, 24.5, [1, 2, 3], 4598] \n",
      "\n",
      "append(), add an item 'XYZ' to the end of the list:\n",
      "  ['XYZ', 879, 123, 24.5, [1, 2, 3], 4598, 879] \n",
      "\n",
      "insert(),  insert 'ABC' at the 2nd position:\n",
      "  ['XYZ', 879, 'ABC', 123, 24.5, [1, 2, 3], 4598, 879] \n",
      "\n",
      "remove(), removes the first instance of item 879 from the Python list:\n",
      "  ['XYZ', 'ABC', 123, 24.5, [1, 2, 3], 4598, 879] \n",
      "\n",
      "pop(), removes the element of 2nd index:\n",
      "  ['XYZ', 'ABC', 24.5, [1, 2, 3], 4598, 879] \n",
      "\n",
      "clear(), empties the list \n",
      "list4: []\n"
     ]
    }
   ],
   "source": [
    "list4 = ['XYZ',879, 123, 24.5, [1,2,3], 4598]\n",
    "print(\"list4:\\n\",list4,\"\\n\")\n",
    "\n",
    "#append()\n",
    "list4.append(879)\n",
    "print(\"append(), add an item 'XYZ' to the end of the list:\\n \",list4,\"\\n\" )\n",
    "\n",
    "#insert()\n",
    "list4.insert(2,'ABC')\n",
    "print(\"insert(),  insert 'ABC' at the 2nd position:\\n \",list4,\"\\n\" )\n",
    "\n",
    "\n",
    "#remove()\n",
    "list4.remove(879)\n",
    "print(\"remove(), removes the first instance of item 879 from the Python list:\\n \",list4 ,\"\\n\")\n",
    "\n",
    "\n",
    "#pop()\n",
    "list4.pop(2)\n",
    "print(\"pop(), removes the element of 2nd index:\\n \",list4 ,\"\\n\")\n",
    "\n",
    "\n",
    "#clear()\n",
    "list4.clear()\n",
    "print(\"clear(), empties the list \\nlist4:\",list4 )"
   ]
  },
  {
   "cell_type": "markdown",
   "metadata": {},
   "source": [
    "# Dictionary"
   ]
  },
  {
   "cell_type": "markdown",
   "metadata": {},
   "source": [
    "A Python dictionary holds key-value pairs {key:value}\n",
    "\n",
    "-> Holds Mixed Datatypes(includes lists and tuples)\n",
    "\n",
    "-> Preserves the order\n",
    "\n",
    "-> Allows to create dataframes\n",
    "\n",
    "-> Indexing isn't supported instead the values are accessed using Keys\n",
    "\n",
    "-> Keys should be unique, if same key names are present then while accessing the old key will be replaced with new key\n",
    "\n",
    "-> Values could be repetitive "
   ]
  },
  {
   "cell_type": "code",
   "execution_count": 260,
   "metadata": {},
   "outputs": [
    {
     "name": "stdout",
     "output_type": "stream",
     "text": [
      "dict1:\n",
      " {'Name': 'John', 'Age': 20, 'Class': 'First'} \n",
      "\n"
     ]
    }
   ],
   "source": [
    "#creating a dictionary\n",
    "dict1 = {'Name': 'John', 'Age': 20, 'Class': 'First'}\n",
    "\n",
    "print(\"dict1:\\n\",dict1,\"\\n\")"
   ]
  },
  {
   "cell_type": "markdown",
   "metadata": {},
   "source": [
    "### Dictionary Functions"
   ]
  },
  {
   "cell_type": "markdown",
   "metadata": {},
   "source": [
    "-> len(), Returns the length of the dictionary in Python. Every key-value pair adds 1 to the length.\n",
    "\n",
    "-> any(), Returns True if even one key in a dictionary has a Boolean value of True.\n",
    "\n",
    "-> all(), Returns True only if all the keys in the dictionary have a Boolean value of True.\n",
    "\n",
    "-> type(), Returns the type of the passed variable. If passed variable is dictionary, then it would return a dictionary type.\n",
    "\n",
    "-> sorted(), Returns a sorted sequence of the keys in the dictionary. The sorting is in ascending order, \n",
    "             and doesn’t modify the original Python dictionary."
   ]
  },
  {
   "cell_type": "code",
   "execution_count": 261,
   "metadata": {},
   "outputs": [
    {
     "name": "stdout",
     "output_type": "stream",
     "text": [
      "Length of the Dictionary:\n",
      "  3 \n",
      "\n",
      "If even one key in dict1 has a Boolean value:\n",
      " True \n",
      "\n",
      "If all the keys in dict1 has a Boolean value:\n",
      " True \n",
      "\n",
      "Type of dict1:\n",
      " <class 'dict'> \n",
      "\n",
      "Sort dict1 in ascending order:\n",
      " ['Age', 'Class', 'Name'] \n",
      "\n"
     ]
    }
   ],
   "source": [
    "#len()\n",
    "print(\"Length of the Dictionary:\\n \", len(dict1),\"\\n\")\n",
    "\n",
    "#any()\n",
    "print(\"If even one key in dict1 has a Boolean value:\\n\", any(dict1),\"\\n\")\n",
    "\n",
    "#all()\n",
    "print(\"If all the keys in dict1 has a Boolean value:\\n\",all(dict1),\"\\n\")\n",
    "\n",
    "#type()\n",
    "print(\"Type of dict1:\\n\",type(dict1),\"\\n\")\n",
    "\n",
    "#sorted()\n",
    "print(\"Sort dict1 in ascending order:\\n\",sorted(dict1),\"\\n\")"
   ]
  },
  {
   "cell_type": "markdown",
   "metadata": {},
   "source": [
    "### Dictionary Methods"
   ]
  },
  {
   "cell_type": "markdown",
   "metadata": {},
   "source": [
    "-> keys(), Returns a list of keys in a Python dictionary.\n",
    "\n",
    "-> values(), Returns a list of values in the dictionary.\n",
    "\n",
    "-> items(), Returns a list of key-value pairs.\n",
    "\n",
    "-> pop(), Remove and display an item from the dictionary. It takes one to two arguments.\n",
    "\n",
    "-> clear(), Empties the Python dictionary."
   ]
  },
  {
   "cell_type": "code",
   "execution_count": 262,
   "metadata": {},
   "outputs": [
    {
     "name": "stdout",
     "output_type": "stream",
     "text": [
      "Length of the Dictionary:\n",
      "  dict_keys(['Name', 'Age', 'Class']) \n",
      "\n",
      "Values present in dict1:\n",
      " dict_values(['John', 20, 'First']) \n",
      "\n",
      "Items present in dict1:\n",
      " dict_items([('Name', 'John'), ('Age', 20), ('Class', 'First')]) \n",
      "\n",
      "Remove Age item from dict1:\n",
      " 20 \n",
      "\n",
      "Clear the items present in dict1\n",
      " dict1: {}\n"
     ]
    }
   ],
   "source": [
    "#keys()\n",
    "print(\"Length of the Dictionary:\\n \",dict1.keys(),\"\\n\")\n",
    "\n",
    "#values()\n",
    "print(\"Values present in dict1:\\n\",dict1.values(),\"\\n\")\n",
    "\n",
    "#items()\n",
    "print(\"Items present in dict1:\\n\",dict1.items(),\"\\n\")\n",
    "\n",
    "#pop()\n",
    "print(\"Remove Age item from dict1:\\n\",dict1.pop('Age'),\"\\n\")\n",
    "\n",
    "#clear()\n",
    "dict1.clear()\n",
    "print(\"Clear the items present in dict1\\n dict1:\",dict1)"
   ]
  },
  {
   "cell_type": "markdown",
   "metadata": {},
   "source": [
    "# Sets"
   ]
  },
  {
   "cell_type": "markdown",
   "metadata": {},
   "source": [
    "In Python sets are written with curly brackets { }\n",
    "\n",
    "-> Mutable\n",
    "\n",
    "-> Holds Mixed Datatypes\n",
    "\n",
    "-> Unique elements allowed\n",
    "\n",
    "-> Doesn't preserve the order\n",
    "\n",
    "-> Indexing isn't supported \n",
    "\n",
    "-> List cannot be a part of sets"
   ]
  },
  {
   "cell_type": "code",
   "execution_count": 263,
   "metadata": {},
   "outputs": [
    {
     "name": "stdout",
     "output_type": "stream",
     "text": [
      "Set1: {1.0, (1, 2, 4), 'Hello', 'Manish'}\n",
      "Set2:  {1, 2, 3, 4, 5, 6, 7, 38, 72, 10, 16}\n"
     ]
    }
   ],
   "source": [
    "set1={1.0,1,\"Hello\",\"Manish\",(1,2,4)} \n",
    "print(\"Set1:\", set1) \n",
    "\n",
    "set2 = {1,2,3,5,7,6,4,3.0,2,10,38,72,16} \n",
    "print(\"Set2: \", set2)"
   ]
  },
  {
   "cell_type": "markdown",
   "metadata": {},
   "source": [
    "### Sets Functions"
   ]
  },
  {
   "cell_type": "markdown",
   "metadata": {},
   "source": [
    "-> len(), Returns the length of a set. This is the number of elements in it.\n",
    "\n",
    "-> max(), Returns the item from the set with the highest value.\n",
    "\n",
    "-> min(), Returns the item in the Python set with the lowest value.\n",
    "\n",
    "-> any(), Returns True even if one item in the set has a Boolean value of True.\n",
    "\n",
    "-> sorted(), Returns a sorted python set to list. It is sorted in ascending order, but it doesn’t modify the original set."
   ]
  },
  {
   "cell_type": "code",
   "execution_count": 264,
   "metadata": {},
   "outputs": [
    {
     "name": "stdout",
     "output_type": "stream",
     "text": [
      "Length of set1:\n",
      " 4 \n",
      "\n",
      "Highest item present in set2:\n",
      " 72 \n",
      "\n",
      "Lowest item present in set2:\n",
      " 1 \n",
      "\n",
      "If one item in set1 has a Boolean value:\n",
      " True \n",
      "\n",
      "Sorts set2 in ascending order:\n",
      " [1, 2, 3, 4, 5, 6, 7, 10, 16, 38, 72] \n",
      "\n"
     ]
    }
   ],
   "source": [
    "#len()\n",
    "print(\"Length of set1:\\n\", len(set1),\"\\n\")\n",
    "\n",
    "#max()\n",
    "print(\"Highest item present in set2:\\n\",max(set2),\"\\n\")\n",
    "\n",
    "#min()\n",
    "print(\"Lowest item present in set2:\\n\",min(set2),\"\\n\")\n",
    "\n",
    "#any()\n",
    "print(\"If one item in set1 has a Boolean value:\\n\",any(set1),\"\\n\")\n",
    "\n",
    "#sorted()\n",
    "print(\"Sorts set2 in ascending order:\\n\",sorted(set2),\"\\n\")"
   ]
  },
  {
   "cell_type": "markdown",
   "metadata": {},
   "source": [
    "### Set Methods"
   ]
  },
  {
   "cell_type": "markdown",
   "metadata": {},
   "source": [
    "-> union(), performs the union operation on two or more Python sets.\n",
    "\n",
    "-> intersection(), takes as argument sets, and returns the common items in all the sets.\n",
    "\n",
    "-> difference(), returns the difference of two or more sets. It returns as a set.\n",
    "\n",
    "-> add(), Adds an element to the set\n",
    "\n",
    "-> clear(), Empties the Python set."
   ]
  },
  {
   "cell_type": "code",
   "execution_count": 265,
   "metadata": {},
   "outputs": [
    {
     "name": "stdout",
     "output_type": "stream",
     "text": [
      "Items present in setA:\n",
      " {1, 2, 3, 4, 5, 9} \n",
      "\n",
      "Items present in setB:\n",
      " {4, 5, 6, 7, 8, 10} \n",
      "\n",
      "Items present in setC:\n",
      " {2, 5, 6, 7} \n",
      "\n",
      "Union of setA and setB(setA | setB):\n",
      " {1, 2, 3, 4, 5, 6, 7, 8, 9, 10} \n",
      "\n",
      "Intersection(setA & setB):\n",
      " {4, 5} \n",
      "\n",
      "Difference(setB-setA):\n",
      " {8, 10, 6, 7} \n",
      "\n",
      "Added an element 'abc' to setC:\n",
      " {2, 5, 6, 7, 'abc'} \n",
      "\n",
      "Clears the elements present in set\n",
      " setC: set()\n"
     ]
    }
   ],
   "source": [
    "setA = {1,2,3,4,5,9}\n",
    "setB = {4,5,6,7,8,10}\n",
    "setC = {2,5,6,7}\n",
    "\n",
    "print(\"Items present in setA:\\n\",setA,\"\\n\")\n",
    "print(\"Items present in setB:\\n\",setB,\"\\n\")\n",
    "print(\"Items present in setC:\\n\",setC,\"\\n\")\n",
    "\n",
    "#uinion()\n",
    "print(\"Union of setA and setB(setA | setB):\\n\",setA.union(setB),\"\\n\")\n",
    "\n",
    "#intersection()\n",
    "print(\"Intersection(setA & setB):\\n\",setA.intersection(setB),\"\\n\")\n",
    "\n",
    "#difference()\n",
    "print(\"Difference(setB-setA):\\n\",setB.difference(setA),\"\\n\")\n",
    "\n",
    "#add()\n",
    "setC.add('abc')\n",
    "print(\"Added an element 'abc' to setC:\\n\",setC,\"\\n\")\n",
    "\n",
    "#clear()\n",
    "setC.clear()\n",
    "print(\"Clears the elements present in set\\n setC:\",setC)"
   ]
  },
  {
   "cell_type": "markdown",
   "metadata": {},
   "source": [
    "# Tuple"
   ]
  },
  {
   "cell_type": "markdown",
   "metadata": {},
   "source": [
    "In Python tuples are written with round brackets ( ).\n",
    "\n",
    "-> Immutable\n",
    "\n",
    "-> Holds Mixed datatypes\n",
    "\n",
    "-> Repetitive elements allowed\n",
    "\n",
    "-> Preserves the order"
   ]
  },
  {
   "cell_type": "code",
   "execution_count": 266,
   "metadata": {},
   "outputs": [
    {
     "name": "stdout",
     "output_type": "stream",
     "text": [
      "tup1:\n",
      " (5, 'python', (10+2j), 5) \n",
      "\n",
      "tup2:\n",
      " (3, 1, 2, 5, 4, 6, 3, 1, 3) \n",
      "\n"
     ]
    }
   ],
   "source": [
    "tup1 = (5,'python',10+2j,5)\n",
    "\n",
    "print(\"tup1:\\n\",tup1,\"\\n\")\n",
    "\n",
    "tup2 = (3,1,2,5,4,6,3,1,3)\n",
    "print(\"tup2:\\n\",tup2,\"\\n\")"
   ]
  },
  {
   "cell_type": "markdown",
   "metadata": {},
   "source": [
    "### Tuple Functions"
   ]
  },
  {
   "cell_type": "markdown",
   "metadata": {},
   "source": [
    "-> len(), Returns its length.\n",
    "\n",
    "-> max(), returns the item from the tuple with the highest value.\n",
    "\n",
    "-> sum(), Returns the arithmetic sum of all the items in the tuple.\n",
    "\n",
    "-> min(), Returns the item with the lowest values.\n",
    "\n",
    "-> sorted(), Returns a sorted version of the tuple, sorting is in ascending order, and it doesn’t modify the original tuple."
   ]
  },
  {
   "cell_type": "code",
   "execution_count": 267,
   "metadata": {},
   "outputs": [
    {
     "name": "stdout",
     "output_type": "stream",
     "text": [
      "Length of tup1:\n",
      " 4 \n",
      "\n",
      "Highest value presnt in tup1:\n",
      " 6 \n",
      "\n",
      "Sum of tup1:\n",
      " 28 \n",
      "\n",
      "Lowest value present in tup1:\n",
      " 1 \n",
      "\n",
      "Sort tup1 in ascending order:\n",
      " [1, 1, 2, 3, 3, 3, 4, 5, 6] \n",
      "\n"
     ]
    }
   ],
   "source": [
    "#len()\n",
    "print(\"Length of tup1:\\n\",len(tup1),\"\\n\")\n",
    "\n",
    "#max()\n",
    "print(\"Highest value presnt in tup1:\\n\",max(tup2),\"\\n\")\n",
    "\n",
    "#sum()\n",
    "print(\"Sum of tup1:\\n\",sum(tup2),\"\\n\")\n",
    "\n",
    "#min()\n",
    "print(\"Lowest value present in tup1:\\n\",min(tup2),\"\\n\")\n",
    "\n",
    "#sorted()\n",
    "print(\"Sort tup1 in ascending order:\\n\",sorted(tup2),\"\\n\")"
   ]
  },
  {
   "cell_type": "markdown",
   "metadata": {},
   "source": [
    "### Tuple Methods"
   ]
  },
  {
   "cell_type": "markdown",
   "metadata": {},
   "source": [
    "-> count(), Returns the number of times a specified value occurs in a tuple\n",
    "\n",
    "-> index(), Searches the tuple for a specified value and returns the position of where it was found"
   ]
  },
  {
   "cell_type": "code",
   "execution_count": 268,
   "metadata": {},
   "outputs": [
    {
     "name": "stdout",
     "output_type": "stream",
     "text": [
      "tup2 elements:\n",
      " (3, 1, 2, 5, 4, 6, 3, 1, 3) \n",
      "\n",
      "Number of times 3 has occured in tup1:\n",
      " 3 \n",
      "\n",
      "Element 2 is in the position :\n",
      " 2 \n",
      "\n"
     ]
    }
   ],
   "source": [
    "print(\"tup2 elements:\\n\",tup2,\"\\n\")\n",
    "\n",
    "#count()\n",
    "print(\"Number of times 3 has occured in tup1:\\n\",tup2.count(3),\"\\n\")\n",
    "\n",
    "#index()\n",
    "print(\"Element 2 is in the position :\\n\",tup2.index(2),\"\\n\")"
   ]
  },
  {
   "cell_type": "markdown",
   "metadata": {},
   "source": [
    "# Strings"
   ]
  },
  {
   "cell_type": "code",
   "execution_count": 269,
   "metadata": {},
   "outputs": [
    {
     "name": "stdout",
     "output_type": "stream",
     "text": [
      "str1:\n",
      " Hello World \n",
      "\n",
      "str2:\n",
      " Python is a programming language.\n",
      "Python is interesting.\n",
      "this is it. \n",
      " \n",
      "\n"
     ]
    }
   ],
   "source": [
    "str1 = 'Hello World'\n",
    "print(\"str1:\\n\",str1,\"\\n\")\n",
    "\n",
    "str2=\"\"\"Python is a programming language.\n",
    "Python is interesting.\n",
    "this is it.\"\"\"\n",
    "print(\"str2:\\n\",str2,\"\\n\",\"\\n\")"
   ]
  },
  {
   "cell_type": "markdown",
   "metadata": {},
   "source": [
    "### Strings Methods"
   ]
  },
  {
   "cell_type": "markdown",
   "metadata": {},
   "source": [
    "-> endswith(), Returns True if the string it is applied on ends with the string in the argument.\n",
    "\n",
    "-> lower(), Converts a string into lower case\n",
    "\n",
    "-> split(), Splits the string at the specified separator, and returns a list\n",
    "\n",
    "-> upper(), Converts a string into upper case\n",
    "\n",
    "-> replace(), It takes two arguments. The first is the substring to be replaced. The second is the substring to replace with."
   ]
  },
  {
   "cell_type": "code",
   "execution_count": 270,
   "metadata": {},
   "outputs": [
    {
     "name": "stdout",
     "output_type": "stream",
     "text": [
      "str3:\n",
      " python,is,a,programming language. \n",
      "\n",
      "Does str1 endswith ld:\n",
      " True \n",
      "\n",
      "Lower Case of str1:\n",
      " hello world \n",
      "\n",
      "Split str3 based on comma:\n",
      " ['python', 'is', 'a', 'programming language.'] \n",
      "\n",
      "Upper Case of str1:\n",
      " HELLO WORLD \n",
      "\n",
      "Haddy Diwali \n",
      "\n"
     ]
    }
   ],
   "source": [
    "str3 = \"python,is,a,programming language.\"\n",
    "print(\"str3:\\n\",str3,\"\\n\")\n",
    "\n",
    "#endswith()\n",
    "print(\"Does str1 endswith ld:\\n\",str1.endswith('ld'),\"\\n\")\n",
    "\n",
    "#lower()\n",
    "print(\"Lower Case of str1:\\n\",str1.lower(),\"\\n\")\n",
    "\n",
    "#split()\n",
    "print(\"Split str3 based on comma:\\n\",str3.split(sep=\",\"),\"\\n\")\n",
    "\n",
    "#upper()\n",
    "print(\"Upper Case of str1:\\n\",str1.upper(),\"\\n\")\n",
    "\n",
    "#replace()\n",
    "print(\"Happy Diwali\".replace(\"p\",\"d\"),\"\\n\")"
   ]
  }
 ],
 "metadata": {
  "kernelspec": {
   "display_name": "Python 3",
   "language": "python",
   "name": "python3"
  },
  "language_info": {
   "codemirror_mode": {
    "name": "ipython",
    "version": 3
   },
   "file_extension": ".py",
   "mimetype": "text/x-python",
   "name": "python",
   "nbconvert_exporter": "python",
   "pygments_lexer": "ipython3",
   "version": "3.7.4"
  }
 },
 "nbformat": 4,
 "nbformat_minor": 2
}
