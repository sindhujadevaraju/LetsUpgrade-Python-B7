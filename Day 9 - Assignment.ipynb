{
 "cells": [
  {
   "cell_type": "markdown",
   "metadata": {},
   "source": [
    "# 1. Problem Statement"
   ]
  },
  {
   "cell_type": "markdown",
   "metadata": {},
   "source": [
    "Write a  python function for finding a given number prime or not and do Unit Testing on it using PyLint and UnitTest Library."
   ]
  },
  {
   "cell_type": "code",
   "execution_count": 20,
   "metadata": {},
   "outputs": [
    {
     "name": "stdout",
     "output_type": "stream",
     "text": [
      "Overwriting prime_number\n"
     ]
    }
   ],
   "source": [
    "%%writefile prime_number\n",
    "'''\n",
    "This is a Function to check prime number\n",
    "'''\n",
    "\n",
    "def prime(num):\n",
    "    '''\n",
    "    This is a prime function\n",
    "    '''\n",
    "    if num == 1:\n",
    "        return False\n",
    "    for i in range(2, num):\n",
    "        if num%i == 0:\n",
    "            return False\n",
    "        return True"
   ]
  },
  {
   "cell_type": "code",
   "execution_count": 21,
   "metadata": {},
   "outputs": [
    {
     "name": "stdout",
     "output_type": "stream",
     "text": [
      "\n",
      "--------------------------------------------------------------------\n",
      "\n",
      "Your code has been rated at 10.00/10 (previous run: 10.00/10, +0.00)\n",
      "\n",
      "\n",
      "\n"
     ]
    }
   ],
   "source": [
    "! pylint \"prime_number\""
   ]
  },
  {
   "cell_type": "markdown",
   "metadata": {},
   "source": [
    "# 2. Problem Statement"
   ]
  },
  {
   "cell_type": "markdown",
   "metadata": {},
   "source": [
    "Make a small generator program for returning armstrong numbers in between 1-1000 in a generator object."
   ]
  },
  {
   "cell_type": "code",
   "execution_count": 13,
   "metadata": {},
   "outputs": [],
   "source": [
    "def armstrong(num):\n",
    "    print(\"The Armstrong numbers between the range 1 to 1000 are: \")\n",
    "    for num in range(1, 1001):\n",
    "        sum = 0\n",
    "        temp = num\n",
    "    \n",
    "        while temp > 0:\n",
    "            digit = temp % 10\n",
    "            sum += digit ** 3\n",
    "            temp //= 10\n",
    "    \n",
    "        if num == sum:\n",
    "             yield print(num, end = \" \")\n",
    "            "
   ]
  },
  {
   "cell_type": "code",
   "execution_count": 14,
   "metadata": {},
   "outputs": [
    {
     "name": "stdout",
     "output_type": "stream",
     "text": [
      "The Armstrong numbers between the range 1 to 1000 are: \n",
      "1 153 370 371 407 "
     ]
    }
   ],
   "source": [
    "lst = list(armstrong(1000))"
   ]
  },
  {
   "cell_type": "code",
   "execution_count": null,
   "metadata": {},
   "outputs": [],
   "source": []
  }
 ],
 "metadata": {
  "kernelspec": {
   "display_name": "Python 3",
   "language": "python",
   "name": "python3"
  },
  "language_info": {
   "codemirror_mode": {
    "name": "ipython",
    "version": 3
   },
   "file_extension": ".py",
   "mimetype": "text/x-python",
   "name": "python",
   "nbconvert_exporter": "python",
   "pygments_lexer": "ipython3",
   "version": "3.7.4"
  }
 },
 "nbformat": 4,
 "nbformat_minor": 2
}
