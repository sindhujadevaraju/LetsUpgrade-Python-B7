{
 "cells": [
  {
   "cell_type": "markdown",
   "metadata": {},
   "source": [
    "# 1. Problem Statement"
   ]
  },
  {
   "cell_type": "markdown",
   "metadata": {},
   "source": [
    "Create a bank account class that has two attributes\n",
    "\n",
    "*OwnerName\n",
    "\n",
    "*Balance\n",
    "\n",
    "and two Methods\n",
    "\n",
    "*deposit\n",
    "\n",
    "*withdraw\n",
    "\n",
    "as an added requirement, withdrawals may not exceed the availabale balance.\n",
    "\n",
    "Instatntiate your class, make several deposits and withdrawals and test to make sure the account can be overdrawn.\n",
    "\n"
   ]
  },
  {
   "cell_type": "code",
   "execution_count": 19,
   "metadata": {},
   "outputs": [],
   "source": [
    "class bank:\n",
    "    def __init__(self, ownerName, balance):\n",
    "        self.ownerName = ownerName\n",
    "        self.balance = balance\n",
    "        \n",
    "    def deposit(self, amount):\n",
    "        self.balance += amount\n",
    "        print(\"The Current balance after crediting Rs.\", amount,\" is : Rs.\", self.balance)\n",
    "        \n",
    "    def withdraw(self, amount):\n",
    "        if (self.balance > amount):\n",
    "            self.balance -= amount\n",
    "            print(\"The Current balance after debiting Rs.\", amount,\" is: Rs.\", self.balance)\n",
    "        else:\n",
    "            print(\"SORRY !\\nLow balance in your account \\nPlease try withrawing lower amount\\n\")\n",
    "            print(\"As you current balance is Rs.\", self.balance)"
   ]
  },
  {
   "cell_type": "code",
   "execution_count": 20,
   "metadata": {},
   "outputs": [],
   "source": [
    "Account1 = bank(\"Rahul Sharma\", 250000)"
   ]
  },
  {
   "cell_type": "code",
   "execution_count": 21,
   "metadata": {},
   "outputs": [
    {
     "name": "stdout",
     "output_type": "stream",
     "text": [
      "The Current balance after crediting Rs. 50000  is : Rs. 300000\n"
     ]
    }
   ],
   "source": [
    "Account1.deposit(50000)"
   ]
  },
  {
   "cell_type": "code",
   "execution_count": 22,
   "metadata": {},
   "outputs": [
    {
     "name": "stdout",
     "output_type": "stream",
     "text": [
      "The Current balance after debiting Rs. 75000  is: Rs. 225000\n"
     ]
    }
   ],
   "source": [
    "Account1.withdraw(75000)"
   ]
  },
  {
   "cell_type": "code",
   "execution_count": 23,
   "metadata": {},
   "outputs": [
    {
     "name": "stdout",
     "output_type": "stream",
     "text": [
      "SORRY !\n",
      "Low balance in your account \n",
      "Please try withrawing lower amount\n",
      "\n",
      "As you current balance is Rs. 225000\n"
     ]
    }
   ],
   "source": [
    "Account1.withdraw(250000)"
   ]
  },
  {
   "cell_type": "markdown",
   "metadata": {},
   "source": [
    "# 2. Problem Statement"
   ]
  },
  {
   "cell_type": "markdown",
   "metadata": {},
   "source": [
    "Create a cone class that has two attributes\n",
    "\n",
    "*r = Radius\n",
    "\n",
    "*h = Height\n",
    "\n",
    "and two methods\n",
    "\n",
    "*Volume = pie * r^2 * (h/3)\n",
    "\n",
    "*Surface area:   pie * r (r + sqrt(r^2 + h^2))\n",
    "            \n",
    "Make only one class with functions, as in where required import Math."
   ]
  },
  {
   "cell_type": "code",
   "execution_count": 27,
   "metadata": {},
   "outputs": [],
   "source": [
    "import math\n",
    "class cone:\n",
    "    def __init__(self, radius, height):\n",
    "        self.radius = radius\n",
    "        self.height = height\n",
    "    \n",
    "    def volume(self):\n",
    "        vol = math.pi * (self.radius**2) * (self.height/3)\n",
    "        print(\"Volume of cone is :\", vol)\n",
    "        \n",
    "    def surfaceArea(self):\n",
    "        area = math.pi * self.radius *(self.radius + math.sqrt((self.radius**2) + (self.height**2)))\n",
    "        print(\"Surface Area of cone is :\", area)\n",
    "        "
   ]
  },
  {
   "cell_type": "code",
   "execution_count": 29,
   "metadata": {},
   "outputs": [
    {
     "name": "stdout",
     "output_type": "stream",
     "text": [
      "Volume of cone is : 102.62536001726656\n",
      "Surface Area of cone is : 134.49923471520142\n"
     ]
    }
   ],
   "source": [
    "example = cone(3.5, 8)\n",
    "example.volume()\n",
    "example.surfaceArea()"
   ]
  },
  {
   "cell_type": "code",
   "execution_count": null,
   "metadata": {},
   "outputs": [],
   "source": []
  }
 ],
 "metadata": {
  "kernelspec": {
   "display_name": "Python 3",
   "language": "python",
   "name": "python3"
  },
  "language_info": {
   "codemirror_mode": {
    "name": "ipython",
    "version": 3
   },
   "file_extension": ".py",
   "mimetype": "text/x-python",
   "name": "python",
   "nbconvert_exporter": "python",
   "pygments_lexer": "ipython3",
   "version": "3.7.4"
  }
 },
 "nbformat": 4,
 "nbformat_minor": 2
}
