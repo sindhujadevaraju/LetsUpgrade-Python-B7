{
 "cells": [
  {
   "cell_type": "markdown",
   "metadata": {},
   "source": [
    "# 1. Problem Statement"
   ]
  },
  {
   "cell_type": "markdown",
   "metadata": {},
   "source": [
    "Write a program to identify sub list [1,1,5] is there in the given list in the same order, if yes print \"it's a match\" if no then print \"it's gone\" in function.\n",
    "\n",
    "Example:-\n",
    "\n",
    "Listy = [1,5,6,4,1,2,3,5] - it's a match\n",
    "\n",
    "Listy = [1,5,6,5,1,2,3.6] - it's gone"
   ]
  },
  {
   "cell_type": "code",
   "execution_count": 61,
   "metadata": {},
   "outputs": [],
   "source": [
    "def matchlist(lst):\n",
    "    sublist = [1,1,5]\n",
    "    length_lst = len(lst)\n",
    "    for i in range(0, length_lst):\n",
    "        if (sublist[0] == lst[i]):\n",
    "            for j in range(i+1, length_lst):\n",
    "                if (sublist[1] == lst[j]):\n",
    "                    for k in range(j+1, length_lst):\n",
    "                        if(sublist[2] == lst[k]):\n",
    "                            return print(\"It's a match\")\n",
    "    else:\n",
    "        print(\"It's gone\")        \n"
   ]
  },
  {
   "cell_type": "code",
   "execution_count": 64,
   "metadata": {},
   "outputs": [
    {
     "name": "stdout",
     "output_type": "stream",
     "text": [
      "Match [1,1,5] with [1,5,6,4,1,2,3,5]\n",
      "It's a match\n",
      "\n",
      "Match [1,1,5] with [[1,5,6,5,1,2,3.6]\n",
      "It's gone\n"
     ]
    }
   ],
   "source": [
    "List1 = [1,5,6,4,1,2,3,5]\n",
    "\n",
    "List2 = [1,5,6,5,1,2,3.6]\n",
    "print(\"Match [1,1,5] with [1,5,6,4,1,2,3,5]\")\n",
    "matchlist(List1)\n",
    "\n",
    "print(\"\\nMatch [1,1,5] with [[1,5,6,5,1,2,3.6]\")\n",
    "matchlist(List2)"
   ]
  },
  {
   "cell_type": "markdown",
   "metadata": {},
   "source": [
    "# 2. Problem Statement"
   ]
  },
  {
   "cell_type": "markdown",
   "metadata": {},
   "source": [
    "Make a function for prime numbers and use Filter to filter out all the prime numbers from 1-2500"
   ]
  },
  {
   "cell_type": "code",
   "execution_count": 19,
   "metadata": {},
   "outputs": [
    {
     "name": "stdout",
     "output_type": "stream",
     "text": [
      "The prime numbers from 1-2500 are:\n",
      " [2, 3, 5, 7, 11, 13, 17, 19, 23, 29, 31, 37, 41, 43, 47, 53, 59, 61, 67, 71, 73, 79, 83, 89, 97, 101, 103, 107, 109, 113, 127, 131, 137, 139, 149, 151, 157, 163, 167, 173, 179, 181, 191, 193, 197, 199, 211, 223, 227, 229, 233, 239, 241, 251, 257, 263, 269, 271, 277, 281, 283, 293, 307, 311, 313, 317, 331, 337, 347, 349, 353, 359, 367, 373, 379, 383, 389, 397, 401, 409, 419, 421, 431, 433, 439, 443, 449, 457, 461, 463, 467, 479, 487, 491, 499, 503, 509, 521, 523, 541, 547, 557, 563, 569, 571, 577, 587, 593, 599, 601, 607, 613, 617, 619, 631, 641, 643, 647, 653, 659, 661, 673, 677, 683, 691, 701, 709, 719, 727, 733, 739, 743, 751, 757, 761, 769, 773, 787, 797, 809, 811, 821, 823, 827, 829, 839, 853, 857, 859, 863, 877, 881, 883, 887, 907, 911, 919, 929, 937, 941, 947, 953, 967, 971, 977, 983, 991, 997, 1009, 1013, 1019, 1021, 1031, 1033, 1039, 1049, 1051, 1061, 1063, 1069, 1087, 1091, 1093, 1097, 1103, 1109, 1117, 1123, 1129, 1151, 1153, 1163, 1171, 1181, 1187, 1193, 1201, 1213, 1217, 1223, 1229, 1231, 1237, 1249, 1259, 1277, 1279, 1283, 1289, 1291, 1297, 1301, 1303, 1307, 1319, 1321, 1327, 1361, 1367, 1373, 1381, 1399, 1409, 1423, 1427, 1429, 1433, 1439, 1447, 1451, 1453, 1459, 1471, 1481, 1483, 1487, 1489, 1493, 1499, 1511, 1523, 1531, 1543, 1549, 1553, 1559, 1567, 1571, 1579, 1583, 1597, 1601, 1607, 1609, 1613, 1619, 1621, 1627, 1637, 1657, 1663, 1667, 1669, 1693, 1697, 1699, 1709, 1721, 1723, 1733, 1741, 1747, 1753, 1759, 1777, 1783, 1787, 1789, 1801, 1811, 1823, 1831, 1847, 1861, 1867, 1871, 1873, 1877, 1879, 1889, 1901, 1907, 1913, 1931, 1933, 1949, 1951, 1973, 1979, 1987, 1993, 1997, 1999, 2003, 2011, 2017, 2027, 2029, 2039, 2053, 2063, 2069, 2081, 2083, 2087, 2089, 2099, 2111, 2113, 2129, 2131, 2137, 2141, 2143, 2153, 2161, 2179, 2203, 2207, 2213, 2221, 2237, 2239, 2243, 2251, 2267, 2269, 2273, 2281, 2287, 2293, 2297, 2309, 2311, 2333, 2339, 2341, 2347, 2351, 2357, 2371, 2377, 2381, 2383, 2389, 2393, 2399, 2411, 2417, 2423, 2437, 2441, 2447, 2459, 2467, 2473, 2477]\n"
     ]
    }
   ],
   "source": [
    "def checkPrime(num):\n",
    "    if num > 1:\n",
    "        for i in range(2, num):\n",
    "            if ( num%i == 0):\n",
    "                break\n",
    "        else:\n",
    "            return True\n",
    "\n",
    "lst = list(range(2501))     \n",
    "new_prime_list = list(filter(checkPrime, lst))\n",
    "\n",
    "print(\"The prime numbers from 1-2500 are:\\n\",new_prime_list)\n",
    "    "
   ]
  },
  {
   "cell_type": "markdown",
   "metadata": {},
   "source": [
    "# 3. Problem Statement"
   ]
  },
  {
   "cell_type": "markdown",
   "metadata": {},
   "source": [
    "Make a Lambda function for capitalizing the whole sentence passed using arguments and map all the sentences in the list, with the Lambda functions.\n",
    "\n",
    "[\"hey this is sai\",\"i am in mumbai\",...]\n",
    "\n",
    "Output: [\"Hey This Is Sai\", \"I Am In Mumbai\",...]"
   ]
  },
  {
   "cell_type": "code",
   "execution_count": 211,
   "metadata": {},
   "outputs": [
    {
     "name": "stdout",
     "output_type": "stream",
     "text": [
      "Capitalizing the first letter of each word \n",
      "\n",
      "Before :  ['hey this is sai', ' i am in mumbai', '...']\n",
      "After :   ['Hey This Is Sai', ' I Am In Mumbai', '...']\n"
     ]
    }
   ],
   "source": [
    "lst = [\"hey this is sai\",\" i am in mumbai\",\"...\"]\n",
    "\n",
    "print(\"Capitalizing the first letter of each word \\n\")\n",
    "print(\"Before : \",lst)\n",
    "\n",
    "capsfirstletter = list(map(lambda lst: lst.title(), lst))\n",
    "print(\"After :  \",capsfirstletter)\n"
   ]
  }
 ],
 "metadata": {
  "kernelspec": {
   "display_name": "Python 3",
   "language": "python",
   "name": "python3"
  },
  "language_info": {
   "codemirror_mode": {
    "name": "ipython",
    "version": 3
   },
   "file_extension": ".py",
   "mimetype": "text/x-python",
   "name": "python",
   "nbconvert_exporter": "python",
   "pygments_lexer": "ipython3",
   "version": "3.7.4"
  }
 },
 "nbformat": 4,
 "nbformat_minor": 2
}
