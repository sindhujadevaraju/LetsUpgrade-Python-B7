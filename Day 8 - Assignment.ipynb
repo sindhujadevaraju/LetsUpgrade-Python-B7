{
 "cells": [
  {
   "cell_type": "markdown",
   "metadata": {},
   "source": [
    "# 1. Problem Statement"
   ]
  },
  {
   "cell_type": "markdown",
   "metadata": {},
   "source": [
    "Write a decorator function for taking input of any kind of function you want to build."
   ]
  },
  {
   "cell_type": "code",
   "execution_count": 98,
   "metadata": {},
   "outputs": [],
   "source": [
    "def getInput(calculate_arg_fn):\n",
    "    def wrap_function():\n",
    "        lower = int(input(\"Lower Limit : \"))\n",
    "        upper = int(input(\"Upper Limit : \"))\n",
    "        calculate_arg_fn(lower, upper)\n",
    "    return wrap_function"
   ]
  },
  {
   "cell_type": "code",
   "execution_count": 99,
   "metadata": {},
   "outputs": [],
   "source": [
    "@getInput\n",
    "\n",
    "def checkEven(lower, upper):\n",
    "    check = 0\n",
    "    print(\"\\nEven numbers between the range\",lower,\"to\",upper,\"are:\")\n",
    "    for i in range(lower, upper + 1):\n",
    "        if i % 2 == 0: \n",
    "            print(i, end = \" \")\n",
    "            "
   ]
  },
  {
   "cell_type": "code",
   "execution_count": 101,
   "metadata": {},
   "outputs": [
    {
     "name": "stdout",
     "output_type": "stream",
     "text": [
      "Lower Limit : 1\n",
      "Upper Limit : 30\n",
      "\n",
      "Even numbers between the range 1 to 30 are:\n",
      "2 4 6 8 10 12 14 16 18 20 22 24 26 28 30 "
     ]
    }
   ],
   "source": [
    "checkEven()"
   ]
  },
  {
   "cell_type": "markdown",
   "metadata": {},
   "source": [
    "# 2. Problem Statement"
   ]
  },
  {
   "cell_type": "markdown",
   "metadata": {},
   "source": [
    "For this challenge you need to develop a Python program to open a file in read only mode and try \n",
    "writing something to it and handle the subsequent errors using Exception Handling."
   ]
  },
  {
   "cell_type": "code",
   "execution_count": 97,
   "metadata": {},
   "outputs": [
    {
     "name": "stdout",
     "output_type": "stream",
     "text": [
      "Error as I am ready only\n"
     ]
    }
   ],
   "source": [
    "file = open(\"MyFile.txt\", \"w\")\n",
    "file.write(\"Lets Upgrade - Python Essentials\")\n",
    "file.close()\n",
    "\n",
    "try:\n",
    "    file = open(\"MyFile.txt\", \"r\")\n",
    "    file.write(\"Python is a Programming Language\")\n",
    "    print(\"Written Successfully\")\n",
    "except:\n",
    "     print(\"Error as I am ready only\")"
   ]
  }
 ],
 "metadata": {
  "kernelspec": {
   "display_name": "Python 3",
   "language": "python",
   "name": "python3"
  },
  "language_info": {
   "codemirror_mode": {
    "name": "ipython",
    "version": 3
   },
   "file_extension": ".py",
   "mimetype": "text/x-python",
   "name": "python",
   "nbconvert_exporter": "python",
   "pygments_lexer": "ipython3",
   "version": "3.7.4"
  }
 },
 "nbformat": 4,
 "nbformat_minor": 2
}
